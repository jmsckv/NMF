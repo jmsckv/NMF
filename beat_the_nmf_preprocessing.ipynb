{
 "cells": [
  {
   "cell_type": "code",
   "execution_count": 111,
   "metadata": {},
   "outputs": [],
   "source": [
    "import pandas as pd\n",
    "import numpy as np"
   ]
  },
  {
   "cell_type": "code",
   "execution_count": 116,
   "metadata": {},
   "outputs": [
    {
     "name": "stdout",
     "output_type": "stream",
     "text": [
      "(400, 800)\n",
      "(400, 646)\n"
     ]
    }
   ],
   "source": [
    "# read-in data\n",
    "df = pd.read_csv(\"data/news.csv\")\n",
    "print(df.shape)\n",
    "\n",
    "# we only keep terms that occur in at most 3 different topics\n",
    "result = np.ones(800)\n",
    "for i in range(0,400,100):\n",
    "    mask = (df[i:i+100].sum(axis=0))>0\n",
    "    result *= mask\n",
    "df = df[df.columns[result==0]]\n",
    "print(df.shape)\n",
    "\n",
    "# sanity check: no empty docs produced\n",
    "assert np.all(df.sum(axis=0))\n",
    "\n",
    "df.to_csv(\"data/news_filtered.csv\")"
   ]
  }
 ],
 "metadata": {
  "kernelspec": {
   "display_name": "Python 3",
   "language": "python",
   "name": "python3"
  },
  "language_info": {
   "codemirror_mode": {
    "name": "ipython",
    "version": 3
   },
   "file_extension": ".py",
   "mimetype": "text/x-python",
   "name": "python",
   "nbconvert_exporter": "python",
   "pygments_lexer": "ipython3",
   "version": "3.6.7"
  }
 },
 "nbformat": 4,
 "nbformat_minor": 2
}
